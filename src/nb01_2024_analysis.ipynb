{
 "cells": [
  {
   "cell_type": "markdown",
   "id": "87424338-9c5f-47a8-a6cf-f3ff8ea77c75",
   "metadata": {},
   "source": [
    "March Madness Pre-2025 Results\n",
    "==========================\n",
    "\n",
    "This notebook will explore predictions for the 2024 March Madness tournament and before, based on Massey rankings and tournament seeding. The purpose is to create a model for predicting tournament performance that can be applied to the 2025 teams."
   ]
  },
  {
   "cell_type": "code",
   "execution_count": 19,
   "id": "7b74722c-2366-4c92-ab0b-0daa32403233",
   "metadata": {},
   "outputs": [],
   "source": [
    "import pandas as pd\n",
    "import matplotlib.pyplot as plt\n",
    "import numpy as np\n",
    "\n",
    "import sklearn.metrics as ms\n",
    "import sklearn.preprocessing as pre\n",
    "\n",
    "from scipy import interpolate\n",
    "\n",
    "### CONSTANTS ###\n",
    "\n",
    "DATA_DIR = '../data/kaggle/'\n",
    "SYSTEM_NAME = \"MB\"\n",
    "YEARS = [ 2024 ]\n",
    "\n",
    "### FUNCTIONS ###\n",
    "\n",
    "def extract_seed_value(seed_str):\n",
    "    try:\n",
    "        return int(seed_str[1:])\n",
    "    except:\n",
    "        np.nan\n",
    "\n",
    "def get_cross_game_id(row):\n",
    "    season = int(row[\"Season\"])\n",
    "    team_x1 = int(row[\"TeamID_X1\"])\n",
    "    team_x2 = int(row[\"TeamID_X2\"])\n",
    "\n",
    "    return f\"{season}_{team_x1}_{team_x2}\"\n",
    "\n",
    "def get_tournament_game_id(row):\n",
    "    season = int(row[\"Season\"])\n",
    "    team_w = int(row[\"WTeamID\"])\n",
    "    team_l = int(row[\"LTeamID\"])\n",
    "\n",
    "    if team_w >= team_l:\n",
    "        return f\"{season}_{team_l}_{team_w}\"\n",
    "    else:\n",
    "        return f\"{season}_{team_w}_{team_l}\"\n",
    "\n",
    "def extract_game_info(id_str):\n",
    "\n",
    "    # Extract year and team_ids\n",
    "    parts = id_str.split('_')\n",
    "    year = int(parts[0])\n",
    "    teamID1 = int(parts[1])\n",
    "    teamID2 = int(parts[2])\n",
    "    return year, teamID1, teamID2\n",
    "\n",
    "def does_team1_win(row):\n",
    "\n",
    "    y, team1, team2 = extract_game_info(row[\"GameID\"])\n",
    "    if row[\"WTeamID\"] == team1:\n",
    "        return 1\n",
    "    else:\n",
    "        return 0"
   ]
  },
  {
   "cell_type": "markdown",
   "id": "1a495e57-c97f-4bbc-be9b-a809c7a42076",
   "metadata": {},
   "source": [
    "# Load Team Data and Rankings"
   ]
  },
  {
   "cell_type": "markdown",
   "id": "9e1111a9-213b-4685-ad12-16e3e7c43dab",
   "metadata": {},
   "source": [
    "Start by loading the seed data for the season(s) listed in the YEARS array, expected to be 68 teams. For now, this notebook is focused on the men's results, to keep the datasets small for initial exploration. Once the model is created, it should be relatively trivial to add results for the women's tournament."
   ]
  },
  {
   "cell_type": "code",
   "execution_count": 20,
   "id": "4715fe46-153c-4238-a511-1cb73cf9c163",
   "metadata": {},
   "outputs": [
    {
     "name": "stdout",
     "output_type": "stream",
     "text": [
      "<class 'pandas.core.frame.DataFrame'>\n",
      "Index: 68 entries, 2490 to 2557\n",
      "Data columns (total 3 columns):\n",
      " #   Column  Non-Null Count  Dtype \n",
      "---  ------  --------------  ----- \n",
      " 0   Season  68 non-null     int64 \n",
      " 1   Seed    68 non-null     object\n",
      " 2   TeamID  68 non-null     int64 \n",
      "dtypes: int64(2), object(1)\n",
      "memory usage: 2.1+ KB\n"
     ]
    }
   ],
   "source": [
    "df_ = pd.read_csv( DATA_DIR + \"MNCAATourneySeeds.csv\" )\n",
    "df_seeds = df_[ df_[\"Season\"].isin( YEARS ) ]\n",
    "df_seeds.info()"
   ]
  },
  {
   "cell_type": "markdown",
   "id": "2fa49678-9398-4b7d-b1b9-b65879cc5c9d",
   "metadata": {},
   "source": [
    "Next, load the Massey rankings for the same set of seasons. For initial exploration, this notebook is only concerned with the most recent results of a single system (\"Massey BCS\") before the tournament. Future exploration could include other rankings."
   ]
  },
  {
   "cell_type": "code",
   "execution_count": 21,
   "id": "37980167-9b2a-4a28-9cb1-75c9f7cc9a82",
   "metadata": {},
   "outputs": [
    {
     "name": "stdout",
     "output_type": "stream",
     "text": [
      "Last ranking day of 2024 season is 133\n"
     ]
    }
   ],
   "source": [
    "df_ = pd.read_csv( DATA_DIR + \"MMasseyOrdinals.csv\" )\n",
    "\n",
    "last_ranking_day = {}\n",
    "df_massey = pd.DataFrame()\n",
    "\n",
    "for y in YEARS:\n",
    "\n",
    "    df_year = df_[ df_[ \"Season\" ] == y ].copy()\n",
    "    last_ranking_day = df_year[ \"RankingDayNum\" ].unique()[-1]\n",
    "\n",
    "    df_sub = df_year[ ( df_year[ \"RankingDayNum\" ] == last_ranking_day ) & \\\n",
    "                      ( df_year[ \"SystemName\" ] == SYSTEM_NAME ) ].copy()\n",
    "\n",
    "    print(f\"Last ranking day of {y} season is {last_ranking_day}\")\n",
    "\n",
    "    if df_massey.empty:\n",
    "        df_massey = df_sub\n",
    "    else:\n",
    "        df_massey = pd.concat( [df_massey, df_sub] )"
   ]
  },
  {
   "cell_type": "code",
   "execution_count": 22,
   "id": "e5c90b77-3f83-44e8-a50c-78ea5ec3d8ca",
   "metadata": {},
   "outputs": [
    {
     "name": "stdout",
     "output_type": "stream",
     "text": [
      "<class 'pandas.core.frame.DataFrame'>\n",
      "Index: 362 entries, 5254396 to 5254757\n",
      "Data columns (total 5 columns):\n",
      " #   Column         Non-Null Count  Dtype \n",
      "---  ------         --------------  ----- \n",
      " 0   Season         362 non-null    int64 \n",
      " 1   RankingDayNum  362 non-null    int64 \n",
      " 2   SystemName     362 non-null    object\n",
      " 3   TeamID         362 non-null    int64 \n",
      " 4   OrdinalRank    362 non-null    int64 \n",
      "dtypes: int64(4), object(1)\n",
      "memory usage: 17.0+ KB\n"
     ]
    }
   ],
   "source": [
    "df_massey.info()"
   ]
  },
  {
   "cell_type": "markdown",
   "id": "9917b6fb-9e76-440d-8b2d-907241205ae1",
   "metadata": {},
   "source": [
    "Drop the season data for both dataframes, then merge the two so that anything that doesn't have a \"Seed\" value is marked as n/a."
   ]
  },
  {
   "cell_type": "code",
   "execution_count": 23,
   "id": "ed9617b0-d660-46c7-a561-669db7f55bf2",
   "metadata": {},
   "outputs": [
    {
     "name": "stdout",
     "output_type": "stream",
     "text": [
      "<class 'pandas.core.frame.DataFrame'>\n",
      "RangeIndex: 362 entries, 0 to 361\n",
      "Data columns (total 6 columns):\n",
      " #   Column         Non-Null Count  Dtype \n",
      "---  ------         --------------  ----- \n",
      " 0   Season         362 non-null    int64 \n",
      " 1   RankingDayNum  362 non-null    int64 \n",
      " 2   SystemName     362 non-null    object\n",
      " 3   TeamID         362 non-null    int64 \n",
      " 4   OrdinalRank    362 non-null    int64 \n",
      " 5   Seed           68 non-null     object\n",
      "dtypes: int64(4), object(2)\n",
      "memory usage: 17.1+ KB\n"
     ]
    }
   ],
   "source": [
    "df_teams = df_massey.merge( df_seeds, on=['TeamID', 'Season'], how='left' )\n",
    "df_teams.info()"
   ]
  },
  {
   "cell_type": "markdown",
   "id": "c7efab5f-6254-4731-b086-aadce714c0f8",
   "metadata": {},
   "source": [
    "Merge team names into the dataframe, for ease of reading."
   ]
  },
  {
   "cell_type": "code",
   "execution_count": 24,
   "id": "0f7152ad-dc68-4732-9030-2aaf3a3a75b0",
   "metadata": {},
   "outputs": [
    {
     "data": {
      "text/html": [
       "<div>\n",
       "<style scoped>\n",
       "    .dataframe tbody tr th:only-of-type {\n",
       "        vertical-align: middle;\n",
       "    }\n",
       "\n",
       "    .dataframe tbody tr th {\n",
       "        vertical-align: top;\n",
       "    }\n",
       "\n",
       "    .dataframe thead th {\n",
       "        text-align: right;\n",
       "    }\n",
       "</style>\n",
       "<table border=\"1\" class=\"dataframe\">\n",
       "  <thead>\n",
       "    <tr style=\"text-align: right;\">\n",
       "      <th></th>\n",
       "      <th>Season</th>\n",
       "      <th>RankingDayNum</th>\n",
       "      <th>SystemName</th>\n",
       "      <th>TeamID</th>\n",
       "      <th>OrdinalRank</th>\n",
       "      <th>Seed</th>\n",
       "      <th>TeamName</th>\n",
       "      <th>FirstD1Season</th>\n",
       "      <th>LastD1Season</th>\n",
       "      <th>SeedValue</th>\n",
       "    </tr>\n",
       "  </thead>\n",
       "  <tbody>\n",
       "    <tr>\n",
       "      <th>0</th>\n",
       "      <td>2024</td>\n",
       "      <td>133</td>\n",
       "      <td>MB</td>\n",
       "      <td>1101</td>\n",
       "      <td>196</td>\n",
       "      <td>NaN</td>\n",
       "      <td>Abilene Chr</td>\n",
       "      <td>2014</td>\n",
       "      <td>2025</td>\n",
       "      <td>NaN</td>\n",
       "    </tr>\n",
       "    <tr>\n",
       "      <th>1</th>\n",
       "      <td>2024</td>\n",
       "      <td>133</td>\n",
       "      <td>MB</td>\n",
       "      <td>1102</td>\n",
       "      <td>270</td>\n",
       "      <td>NaN</td>\n",
       "      <td>Air Force</td>\n",
       "      <td>1985</td>\n",
       "      <td>2025</td>\n",
       "      <td>NaN</td>\n",
       "    </tr>\n",
       "    <tr>\n",
       "      <th>2</th>\n",
       "      <td>2024</td>\n",
       "      <td>133</td>\n",
       "      <td>MB</td>\n",
       "      <td>1103</td>\n",
       "      <td>109</td>\n",
       "      <td>Y14</td>\n",
       "      <td>Akron</td>\n",
       "      <td>1985</td>\n",
       "      <td>2025</td>\n",
       "      <td>14.0</td>\n",
       "    </tr>\n",
       "    <tr>\n",
       "      <th>3</th>\n",
       "      <td>2024</td>\n",
       "      <td>133</td>\n",
       "      <td>MB</td>\n",
       "      <td>1104</td>\n",
       "      <td>17</td>\n",
       "      <td>X04</td>\n",
       "      <td>Alabama</td>\n",
       "      <td>1985</td>\n",
       "      <td>2025</td>\n",
       "      <td>4.0</td>\n",
       "    </tr>\n",
       "    <tr>\n",
       "      <th>4</th>\n",
       "      <td>2024</td>\n",
       "      <td>133</td>\n",
       "      <td>MB</td>\n",
       "      <td>1105</td>\n",
       "      <td>326</td>\n",
       "      <td>NaN</td>\n",
       "      <td>Alabama A&amp;M</td>\n",
       "      <td>2000</td>\n",
       "      <td>2025</td>\n",
       "      <td>NaN</td>\n",
       "    </tr>\n",
       "  </tbody>\n",
       "</table>\n",
       "</div>"
      ],
      "text/plain": [
       "   Season  RankingDayNum SystemName  TeamID  OrdinalRank Seed     TeamName  \\\n",
       "0    2024            133         MB    1101          196  NaN  Abilene Chr   \n",
       "1    2024            133         MB    1102          270  NaN    Air Force   \n",
       "2    2024            133         MB    1103          109  Y14        Akron   \n",
       "3    2024            133         MB    1104           17  X04      Alabama   \n",
       "4    2024            133         MB    1105          326  NaN  Alabama A&M   \n",
       "\n",
       "   FirstD1Season  LastD1Season  SeedValue  \n",
       "0           2014          2025        NaN  \n",
       "1           1985          2025        NaN  \n",
       "2           1985          2025       14.0  \n",
       "3           1985          2025        4.0  \n",
       "4           2000          2025        NaN  "
      ]
     },
     "execution_count": 24,
     "metadata": {},
     "output_type": "execute_result"
    }
   ],
   "source": [
    "df_teams_details = pd.read_csv( DATA_DIR + \"MTeams.csv\" )\n",
    "\n",
    "df_teams = df_teams.merge( df_teams_details, on=['TeamID' ], how='left' )\n",
    "df_teams['SeedValue'] = df_teams['Seed'].apply(extract_seed_value)\n",
    "\n",
    "df_teams.head()"
   ]
  },
  {
   "cell_type": "markdown",
   "id": "9987d51b-3f1a-4c8e-944d-641c47b06c7b",
   "metadata": {},
   "source": [
    "# Missing Seed Values\n",
    "\n",
    "The seed value can act as important piece of information, and it's included ONLY for teams that made the playoffs. Given the format of the 2025 March Madness competetetion, the model will function better if the missing seed values can be filled in. To that end, this notebook will use Massey system rankings to impute seed values for groups that didn't make it into the tournament."
   ]
  },
  {
   "cell_type": "code",
   "execution_count": null,
   "id": "9543a0b4-bc6a-437b-82f9-5032c0c4ca63",
   "metadata": {},
   "outputs": [],
   "source": []
  },
  {
   "cell_type": "markdown",
   "id": "d9afa584-cd00-4782-b4ef-88b5a1b61192",
   "metadata": {},
   "source": [
    "# Create Hypothetical Matchups\n",
    "\n",
    "This section will turn the list of 362 teams for the men's season into 65K hypothetical matchups, which we can then use to predict the overall outcomes of the 2024 tournament."
   ]
  },
  {
   "cell_type": "code",
   "execution_count": 25,
   "id": "776babcd-89b5-44c6-aebf-821f8eba9be5",
   "metadata": {},
   "outputs": [
    {
     "data": {
      "text/plain": [
       "(131044, 11)"
      ]
     },
     "execution_count": 25,
     "metadata": {},
     "output_type": "execute_result"
    }
   ],
   "source": [
    "df_teams_sub = df_teams[[ \"TeamID\", \"TeamName\", \"OrdinalRank\", \"Seed\", \"SeedValue\", \"Season\" ]]\n",
    "cross_teams = pd.merge( df_teams_sub, df_teams_sub, how=\"cross\", suffixes=[\"_X1\", \"_X2\"] )\n",
    "\n",
    "cross_teams.drop( \"Season_X2\", axis=1, inplace=True )\n",
    "cross_teams.rename( columns={ \"Season_X1\": \"Season\" }, inplace=True )\n",
    "\n",
    "cross_teams.shape"
   ]
  },
  {
   "cell_type": "markdown",
   "id": "3b525072-f103-40a2-8f67-db6a8521f22d",
   "metadata": {},
   "source": [
    "Per the expected submissions data, any rows where TeamID_X1 >= TeamID_X2 are dropped. For the 2025 season, this _should_ provide a total of 131407 rows (men's and women's teams) and a header in the submissions dataset."
   ]
  },
  {
   "cell_type": "code",
   "execution_count": 26,
   "id": "428a78b6-b5fb-4c1c-9847-8431bd842482",
   "metadata": {},
   "outputs": [
    {
     "name": "stdout",
     "output_type": "stream",
     "text": [
      "<class 'pandas.core.frame.DataFrame'>\n",
      "Index: 65341 entries, 1 to 130681\n",
      "Data columns (total 11 columns):\n",
      " #   Column          Non-Null Count  Dtype  \n",
      "---  ------          --------------  -----  \n",
      " 0   TeamID_X1       65341 non-null  int64  \n",
      " 1   TeamName_X1     65341 non-null  object \n",
      " 2   OrdinalRank_X1  65341 non-null  int64  \n",
      " 3   Seed_X1         13068 non-null  object \n",
      " 4   SeedValue_X1    11361 non-null  float64\n",
      " 5   Season          65341 non-null  int64  \n",
      " 6   TeamID_X2       65341 non-null  int64  \n",
      " 7   TeamName_X2     65341 non-null  object \n",
      " 8   OrdinalRank_X2  65341 non-null  int64  \n",
      " 9   Seed_X2         11480 non-null  object \n",
      " 10  SeedValue_X2    10299 non-null  float64\n",
      "dtypes: float64(2), int64(5), object(4)\n",
      "memory usage: 6.0+ MB\n"
     ]
    }
   ],
   "source": [
    "cross_teams = cross_teams.drop( cross_teams[ cross_teams[\"TeamID_X1\"] >= cross_teams[\"TeamID_X2\"] ].index )\n",
    "cross_teams.info()"
   ]
  },
  {
   "cell_type": "markdown",
   "id": "5c7cdd6d-3edd-477b-a24e-c811cca7cef5",
   "metadata": {},
   "source": [
    "Run final processing on the cross-team merge, including calculating diffs in rankings between teams, and setting the game id."
   ]
  },
  {
   "cell_type": "code",
   "execution_count": 27,
   "id": "9d9adaad-fdb3-4cb3-89b7-b33e987abc21",
   "metadata": {},
   "outputs": [],
   "source": [
    "cross_teams[\"RankDiff\"] = cross_teams[\"OrdinalRank_X1\"] - cross_teams[\"OrdinalRank_X2\"]\n",
    "cross_teams[\"GameID\"] = cross_teams.apply( get_cross_game_id, axis=1 )"
   ]
  },
  {
   "cell_type": "markdown",
   "id": "02093654-4672-44b3-bf20-936fa2370626",
   "metadata": {},
   "source": [
    "Show the hypothetical matchups for a team that usually gets ranked. This notebook assumes \"TeamName_X2\" will only have teams that come after Gonzaga in the alphabet."
   ]
  },
  {
   "cell_type": "code",
   "execution_count": 28,
   "id": "c6100d89-e9ab-478d-bde7-647abef49948",
   "metadata": {},
   "outputs": [
    {
     "data": {
      "text/html": [
       "<style type=\"text/css\">\n",
       "</style>\n",
       "<table id=\"T_30831\">\n",
       "  <thead>\n",
       "    <tr>\n",
       "      <th id=\"T_30831_level0_col0\" class=\"col_heading level0 col0\" >GameID</th>\n",
       "      <th id=\"T_30831_level0_col1\" class=\"col_heading level0 col1\" >TeamName_X1</th>\n",
       "      <th id=\"T_30831_level0_col2\" class=\"col_heading level0 col2\" >TeamName_X2</th>\n",
       "      <th id=\"T_30831_level0_col3\" class=\"col_heading level0 col3\" >RankDiff</th>\n",
       "    </tr>\n",
       "  </thead>\n",
       "  <tbody>\n",
       "    <tr>\n",
       "      <td id=\"T_30831_row0_col0\" class=\"data row0 col0\" >2024_1211_1212</td>\n",
       "      <td id=\"T_30831_row0_col1\" class=\"data row0 col1\" >Gonzaga</td>\n",
       "      <td id=\"T_30831_row0_col2\" class=\"data row0 col2\" >Grambling</td>\n",
       "      <td id=\"T_30831_row0_col3\" class=\"data row0 col3\" >-217</td>\n",
       "    </tr>\n",
       "    <tr>\n",
       "      <td id=\"T_30831_row1_col0\" class=\"data row1 col0\" >2024_1211_1213</td>\n",
       "      <td id=\"T_30831_row1_col1\" class=\"data row1 col1\" >Gonzaga</td>\n",
       "      <td id=\"T_30831_row1_col2\" class=\"data row1 col2\" >Grand Canyon</td>\n",
       "      <td id=\"T_30831_row1_col3\" class=\"data row1 col3\" >-12</td>\n",
       "    </tr>\n",
       "    <tr>\n",
       "      <td id=\"T_30831_row2_col0\" class=\"data row2 col0\" >2024_1211_1214</td>\n",
       "      <td id=\"T_30831_row2_col1\" class=\"data row2 col1\" >Gonzaga</td>\n",
       "      <td id=\"T_30831_row2_col2\" class=\"data row2 col2\" >Hampton</td>\n",
       "      <td id=\"T_30831_row2_col3\" class=\"data row2 col3\" >-311</td>\n",
       "    </tr>\n",
       "    <tr>\n",
       "      <td id=\"T_30831_row3_col0\" class=\"data row3 col0\" >2024_1211_1217</td>\n",
       "      <td id=\"T_30831_row3_col1\" class=\"data row3 col1\" >Gonzaga</td>\n",
       "      <td id=\"T_30831_row3_col2\" class=\"data row3 col2\" >Harvard</td>\n",
       "      <td id=\"T_30831_row3_col3\" class=\"data row3 col3\" >-169</td>\n",
       "    </tr>\n",
       "    <tr>\n",
       "      <td id=\"T_30831_row4_col0\" class=\"data row4 col0\" >2024_1211_1218</td>\n",
       "      <td id=\"T_30831_row4_col1\" class=\"data row4 col1\" >Gonzaga</td>\n",
       "      <td id=\"T_30831_row4_col2\" class=\"data row4 col2\" >Hawaii</td>\n",
       "      <td id=\"T_30831_row4_col3\" class=\"data row4 col3\" >-149</td>\n",
       "    </tr>\n",
       "  </tbody>\n",
       "</table>\n"
      ],
      "text/plain": [
       "<pandas.io.formats.style.Styler at 0x11631c1d0>"
      ]
     },
     "execution_count": 28,
     "metadata": {},
     "output_type": "execute_result"
    }
   ],
   "source": [
    "df_gonzaga = cross_teams[ cross_teams[\"TeamName_X1\"] == \"Gonzaga\" ].copy()\n",
    "df_gonzaga[[\"GameID\", \"TeamName_X1\", \"TeamName_X2\", \"RankDiff\"]].head(5).style.hide(axis=\"index\")"
   ]
  },
  {
   "cell_type": "markdown",
   "id": "b058ae04-3477-464b-8278-4ac1c2914e59",
   "metadata": {},
   "source": [
    "# Train the Model"
   ]
  },
  {
   "cell_type": "markdown",
   "id": "3a3c9daf-e736-41de-a566-d9056163bfe9",
   "metadata": {},
   "source": [
    "# Load Tournament Results"
   ]
  },
  {
   "cell_type": "code",
   "execution_count": 29,
   "id": "c5cc9381-4124-4a73-8525-a66ab767414d",
   "metadata": {},
   "outputs": [
    {
     "name": "stdout",
     "output_type": "stream",
     "text": [
      "<class 'pandas.core.frame.DataFrame'>\n",
      "Index: 67 entries, 2451 to 2517\n",
      "Data columns (total 10 columns):\n",
      " #   Column    Non-Null Count  Dtype \n",
      "---  ------    --------------  ----- \n",
      " 0   Season    67 non-null     int64 \n",
      " 1   DayNum    67 non-null     int64 \n",
      " 2   WTeamID   67 non-null     int64 \n",
      " 3   WScore    67 non-null     int64 \n",
      " 4   LTeamID   67 non-null     int64 \n",
      " 5   LScore    67 non-null     int64 \n",
      " 6   WLoc      67 non-null     object\n",
      " 7   NumOT     67 non-null     int64 \n",
      " 8   GameID    67 non-null     object\n",
      " 9   Team1Win  67 non-null     int64 \n",
      "dtypes: int64(8), object(2)\n",
      "memory usage: 5.8+ KB\n"
     ]
    }
   ],
   "source": [
    "df_ = pd.read_csv( DATA_DIR + \"MNCAATourneyCompactResults.csv\" )\n",
    "df_tourney = df_[ df_[\"Season\"].isin( YEARS ) ].copy()\n",
    "\n",
    "df_tourney[\"GameID\"] = df_tourney.apply( get_tournament_game_id, axis=1 )\n",
    "df_tourney[\"Team1Win\"] = df_tourney.apply( does_team1_win, axis=1 )\n",
    "\n",
    "df_tourney.info() "
   ]
  },
  {
   "cell_type": "markdown",
   "id": "4183683c-4d6a-45e0-9471-4765b31dfed8",
   "metadata": {},
   "source": [
    "# Merge Tournament Results with Predictions\n",
    "\n",
    "To help better analyze the data, we will be cleaning and pre-processing the 2024 results, as well as incorporating seed values and Massey rankings."
   ]
  },
  {
   "cell_type": "code",
   "execution_count": 30,
   "id": "61a3d6de-f099-492c-9da8-a9e604f08ef0",
   "metadata": {},
   "outputs": [],
   "source": [
    "df_merged = df_tourney.merge(cross_teams[[ \"GameID\", \"RankDiff\" ]], how=\"left\", on=\"GameID\" )\n",
    "#df_merged[\"PredictedWin\"] = df_merged[\"RankDiff\"].apply( lambda v: 1 if v < 0 else 0 )"
   ]
  },
  {
   "cell_type": "code",
   "execution_count": 31,
   "id": "8d0494b1-886d-461f-a94b-8e55758096ce",
   "metadata": {},
   "outputs": [],
   "source": [
    "minmax = pre.MinMaxScaler()\n",
    "series_transformed = minmax.fit_transform(df_merged[[\"RankDiff\"]])\n",
    "df_merged[\"NormalizedRankDiff\"] = 1 - series_transformed[:,0].round(4)"
   ]
  },
  {
   "cell_type": "code",
   "execution_count": 32,
   "id": "a82dda5b-5b98-48b3-bcf8-b9dbfb5287fa",
   "metadata": {},
   "outputs": [
    {
     "data": {
      "text/plain": [
       "(67, 12)"
      ]
     },
     "execution_count": 32,
     "metadata": {},
     "output_type": "execute_result"
    }
   ],
   "source": [
    "df_merged.shape"
   ]
  },
  {
   "cell_type": "code",
   "execution_count": 33,
   "id": "ebfef0a5-fddd-46df-a31d-ccadc7f75b6c",
   "metadata": {},
   "outputs": [
    {
     "data": {
      "text/html": [
       "<div>\n",
       "<style scoped>\n",
       "    .dataframe tbody tr th:only-of-type {\n",
       "        vertical-align: middle;\n",
       "    }\n",
       "\n",
       "    .dataframe tbody tr th {\n",
       "        vertical-align: top;\n",
       "    }\n",
       "\n",
       "    .dataframe thead th {\n",
       "        text-align: right;\n",
       "    }\n",
       "</style>\n",
       "<table border=\"1\" class=\"dataframe\">\n",
       "  <thead>\n",
       "    <tr style=\"text-align: right;\">\n",
       "      <th></th>\n",
       "      <th>NormalizedRankDiff</th>\n",
       "    </tr>\n",
       "  </thead>\n",
       "  <tbody>\n",
       "    <tr>\n",
       "      <th>count</th>\n",
       "      <td>67.000000</td>\n",
       "    </tr>\n",
       "    <tr>\n",
       "      <th>mean</th>\n",
       "      <td>0.486491</td>\n",
       "    </tr>\n",
       "    <tr>\n",
       "      <th>std</th>\n",
       "      <td>0.141375</td>\n",
       "    </tr>\n",
       "    <tr>\n",
       "      <th>min</th>\n",
       "      <td>0.000000</td>\n",
       "    </tr>\n",
       "    <tr>\n",
       "      <th>25%</th>\n",
       "      <td>0.425600</td>\n",
       "    </tr>\n",
       "    <tr>\n",
       "      <th>50%</th>\n",
       "      <td>0.470800</td>\n",
       "    </tr>\n",
       "    <tr>\n",
       "      <th>75%</th>\n",
       "      <td>0.538600</td>\n",
       "    </tr>\n",
       "    <tr>\n",
       "      <th>max</th>\n",
       "      <td>1.000000</td>\n",
       "    </tr>\n",
       "  </tbody>\n",
       "</table>\n",
       "</div>"
      ],
      "text/plain": [
       "       NormalizedRankDiff\n",
       "count           67.000000\n",
       "mean             0.486491\n",
       "std              0.141375\n",
       "min              0.000000\n",
       "25%              0.425600\n",
       "50%              0.470800\n",
       "75%              0.538600\n",
       "max              1.000000"
      ]
     },
     "execution_count": 33,
     "metadata": {},
     "output_type": "execute_result"
    }
   ],
   "source": [
    "df_merged[[\"NormalizedRankDiff\"]].describe()"
   ]
  },
  {
   "cell_type": "code",
   "execution_count": 34,
   "id": "c010fd2b-0fa7-46e6-b6b1-76b2a7f744e2",
   "metadata": {},
   "outputs": [
    {
     "data": {
      "text/html": [
       "<div>\n",
       "<style scoped>\n",
       "    .dataframe tbody tr th:only-of-type {\n",
       "        vertical-align: middle;\n",
       "    }\n",
       "\n",
       "    .dataframe tbody tr th {\n",
       "        vertical-align: top;\n",
       "    }\n",
       "\n",
       "    .dataframe thead th {\n",
       "        text-align: right;\n",
       "    }\n",
       "</style>\n",
       "<table border=\"1\" class=\"dataframe\">\n",
       "  <thead>\n",
       "    <tr style=\"text-align: right;\">\n",
       "      <th></th>\n",
       "      <th>Season</th>\n",
       "      <th>DayNum</th>\n",
       "      <th>WTeamID</th>\n",
       "      <th>WScore</th>\n",
       "      <th>LTeamID</th>\n",
       "      <th>LScore</th>\n",
       "      <th>WLoc</th>\n",
       "      <th>NumOT</th>\n",
       "      <th>GameID</th>\n",
       "      <th>Team1Win</th>\n",
       "      <th>RankDiff</th>\n",
       "      <th>NormalizedRankDiff</th>\n",
       "    </tr>\n",
       "  </thead>\n",
       "  <tbody>\n",
       "    <tr>\n",
       "      <th>0</th>\n",
       "      <td>2024</td>\n",
       "      <td>134</td>\n",
       "      <td>1161</td>\n",
       "      <td>67</td>\n",
       "      <td>1438</td>\n",
       "      <td>42</td>\n",
       "      <td>N</td>\n",
       "      <td>0</td>\n",
       "      <td>2024_1161_1438</td>\n",
       "      <td>1</td>\n",
       "      <td>-1</td>\n",
       "      <td>0.4482</td>\n",
       "    </tr>\n",
       "    <tr>\n",
       "      <th>1</th>\n",
       "      <td>2024</td>\n",
       "      <td>134</td>\n",
       "      <td>1447</td>\n",
       "      <td>71</td>\n",
       "      <td>1224</td>\n",
       "      <td>68</td>\n",
       "      <td>N</td>\n",
       "      <td>0</td>\n",
       "      <td>2024_1224_1447</td>\n",
       "      <td>0</td>\n",
       "      <td>-26</td>\n",
       "      <td>0.4953</td>\n",
       "    </tr>\n",
       "    <tr>\n",
       "      <th>2</th>\n",
       "      <td>2024</td>\n",
       "      <td>135</td>\n",
       "      <td>1160</td>\n",
       "      <td>60</td>\n",
       "      <td>1129</td>\n",
       "      <td>53</td>\n",
       "      <td>N</td>\n",
       "      <td>0</td>\n",
       "      <td>2024_1129_1160</td>\n",
       "      <td>0</td>\n",
       "      <td>21</td>\n",
       "      <td>0.4068</td>\n",
       "    </tr>\n",
       "    <tr>\n",
       "      <th>3</th>\n",
       "      <td>2024</td>\n",
       "      <td>135</td>\n",
       "      <td>1212</td>\n",
       "      <td>88</td>\n",
       "      <td>1286</td>\n",
       "      <td>81</td>\n",
       "      <td>N</td>\n",
       "      <td>0</td>\n",
       "      <td>2024_1212_1286</td>\n",
       "      <td>1</td>\n",
       "      <td>1</td>\n",
       "      <td>0.4444</td>\n",
       "    </tr>\n",
       "    <tr>\n",
       "      <th>4</th>\n",
       "      <td>2024</td>\n",
       "      <td>136</td>\n",
       "      <td>1112</td>\n",
       "      <td>85</td>\n",
       "      <td>1253</td>\n",
       "      <td>65</td>\n",
       "      <td>N</td>\n",
       "      <td>0</td>\n",
       "      <td>2024_1112_1253</td>\n",
       "      <td>1</td>\n",
       "      <td>-130</td>\n",
       "      <td>0.6911</td>\n",
       "    </tr>\n",
       "    <tr>\n",
       "      <th>5</th>\n",
       "      <td>2024</td>\n",
       "      <td>136</td>\n",
       "      <td>1166</td>\n",
       "      <td>77</td>\n",
       "      <td>1103</td>\n",
       "      <td>60</td>\n",
       "      <td>N</td>\n",
       "      <td>0</td>\n",
       "      <td>2024_1103_1166</td>\n",
       "      <td>0</td>\n",
       "      <td>95</td>\n",
       "      <td>0.2674</td>\n",
       "    </tr>\n",
       "    <tr>\n",
       "      <th>6</th>\n",
       "      <td>2024</td>\n",
       "      <td>136</td>\n",
       "      <td>1173</td>\n",
       "      <td>63</td>\n",
       "      <td>1305</td>\n",
       "      <td>60</td>\n",
       "      <td>N</td>\n",
       "      <td>0</td>\n",
       "      <td>2024_1173_1305</td>\n",
       "      <td>1</td>\n",
       "      <td>11</td>\n",
       "      <td>0.4256</td>\n",
       "    </tr>\n",
       "    <tr>\n",
       "      <th>7</th>\n",
       "      <td>2024</td>\n",
       "      <td>136</td>\n",
       "      <td>1182</td>\n",
       "      <td>71</td>\n",
       "      <td>1140</td>\n",
       "      <td>67</td>\n",
       "      <td>N</td>\n",
       "      <td>0</td>\n",
       "      <td>2024_1140_1182</td>\n",
       "      <td>0</td>\n",
       "      <td>-52</td>\n",
       "      <td>0.5443</td>\n",
       "    </tr>\n",
       "    <tr>\n",
       "      <th>8</th>\n",
       "      <td>2024</td>\n",
       "      <td>136</td>\n",
       "      <td>1211</td>\n",
       "      <td>86</td>\n",
       "      <td>1270</td>\n",
       "      <td>65</td>\n",
       "      <td>N</td>\n",
       "      <td>0</td>\n",
       "      <td>2024_1211_1270</td>\n",
       "      <td>1</td>\n",
       "      <td>-41</td>\n",
       "      <td>0.5235</td>\n",
       "    </tr>\n",
       "    <tr>\n",
       "      <th>9</th>\n",
       "      <td>2024</td>\n",
       "      <td>136</td>\n",
       "      <td>1228</td>\n",
       "      <td>85</td>\n",
       "      <td>1287</td>\n",
       "      <td>69</td>\n",
       "      <td>N</td>\n",
       "      <td>0</td>\n",
       "      <td>2024_1228_1287</td>\n",
       "      <td>1</td>\n",
       "      <td>-121</td>\n",
       "      <td>0.6742</td>\n",
       "    </tr>\n",
       "  </tbody>\n",
       "</table>\n",
       "</div>"
      ],
      "text/plain": [
       "   Season  DayNum  WTeamID  WScore  LTeamID  LScore WLoc  NumOT  \\\n",
       "0    2024     134     1161      67     1438      42    N      0   \n",
       "1    2024     134     1447      71     1224      68    N      0   \n",
       "2    2024     135     1160      60     1129      53    N      0   \n",
       "3    2024     135     1212      88     1286      81    N      0   \n",
       "4    2024     136     1112      85     1253      65    N      0   \n",
       "5    2024     136     1166      77     1103      60    N      0   \n",
       "6    2024     136     1173      63     1305      60    N      0   \n",
       "7    2024     136     1182      71     1140      67    N      0   \n",
       "8    2024     136     1211      86     1270      65    N      0   \n",
       "9    2024     136     1228      85     1287      69    N      0   \n",
       "\n",
       "           GameID  Team1Win  RankDiff  NormalizedRankDiff  \n",
       "0  2024_1161_1438         1        -1              0.4482  \n",
       "1  2024_1224_1447         0       -26              0.4953  \n",
       "2  2024_1129_1160         0        21              0.4068  \n",
       "3  2024_1212_1286         1         1              0.4444  \n",
       "4  2024_1112_1253         1      -130              0.6911  \n",
       "5  2024_1103_1166         0        95              0.2674  \n",
       "6  2024_1173_1305         1        11              0.4256  \n",
       "7  2024_1140_1182         0       -52              0.5443  \n",
       "8  2024_1211_1270         1       -41              0.5235  \n",
       "9  2024_1228_1287         1      -121              0.6742  "
      ]
     },
     "execution_count": 34,
     "metadata": {},
     "output_type": "execute_result"
    }
   ],
   "source": [
    "df_merged.head(10)"
   ]
  },
  {
   "cell_type": "markdown",
   "id": "cf904183-b5aa-4510-b648-8077ffccadde",
   "metadata": {},
   "source": [
    "# Check Model Performance"
   ]
  },
  {
   "cell_type": "code",
   "execution_count": 35,
   "id": "39a99878-e638-43e5-beb5-e15c8a29aa2f",
   "metadata": {},
   "outputs": [
    {
     "name": "stdout",
     "output_type": "stream",
     "text": [
      "AUC 0.714\n",
      "Optimal threshold 0.444 at tpr: 0.744, fpr: 0.375\n"
     ]
    }
   ],
   "source": [
    "y_preds = df_merged[\"NormalizedRankDiff\"]\n",
    "y = df_merged[\"Team1Win\"]\n",
    "\n",
    "fpr, tpr, thresh = ms.roc_curve(y, y_preds)\n",
    "roc_auc = ms.auc(fpr, tpr)\n",
    "\n",
    "# Calculate the geometric mean\n",
    "gmeans = np.sqrt(tpr * (1 - fpr))\n",
    "\n",
    "# Locate the index of the largest gmean\n",
    "index = np.argmax(gmeans)\n",
    "threshold = thresh[index]\n",
    "\n",
    "tpr_intrp = interpolate.interp1d(thresh, tpr)\n",
    "fpr_intrp = interpolate.interp1d(thresh, fpr)\n",
    "\n",
    "print(f\"AUC {round(roc_auc,3)}\")\n",
    "print(f\"Optimal threshold {round(threshold,3)} at \" \\\n",
    "      f\"tpr: {np.round(tpr_intrp(threshold),3)}, \" \\\n",
    "      f\"fpr: {np.round(fpr_intrp(threshold),3)}\")"
   ]
  },
  {
   "cell_type": "code",
   "execution_count": 36,
   "id": "115b31dd-6ab0-497a-a18f-365ecdb44aaf",
   "metadata": {},
   "outputs": [
    {
     "data": {
      "image/png": "[encoded data removed]",
      "text/plain": [
       "<Figure size 640x480 with 1 Axes>"
      ]
     },
     "metadata": {},
     "output_type": "display_data"
    }
   ],
   "source": [
    "min_limit = -0.01\n",
    "max_limit = 1.01\n",
    "\n",
    "operating_point_fpr = fpr_intrp(threshold)\n",
    "operating_point_tpr = tpr_intrp(threshold)\n",
    "\n",
    "plt.title('Receiver Operating Characteristic')\n",
    "\n",
    "plt.plot(fpr, tpr, 'b', label = 'Test AUC = %0.3f' % roc_auc)\n",
    "plt.plot(operating_point_fpr, operating_point_tpr, 'bo', label=f'Test Operating Point')\n",
    "\n",
    "plt.plot([min_limit, max_limit], [min_limit, max_limit],'r--')\n",
    "\n",
    "plt.xlim([min_limit, max_limit])\n",
    "plt.ylim([min_limit, max_limit])\n",
    "plt.ylabel('True Positive Rate')\n",
    "plt.xlabel('False Positive Rate')\n",
    "\n",
    "plt.legend(loc = 'lower right')\n",
    "plt.show()"
   ]
  },
  {
   "cell_type": "code",
   "execution_count": null,
   "id": "f858fe1d-79e6-41f4-81af-576616fa0aa9",
   "metadata": {},
   "outputs": [],
   "source": []
  }
 ],
 "metadata": {
  "kernelspec": {
   "display_name": "Python 3 (ipykernel)",
   "language": "python",
   "name": "python3"
  },
  "language_info": {
   "codemirror_mode": {
    "name": "ipython",
    "version": 3
   },
   "file_extension": ".py",
   "mimetype": "text/x-python",
   "name": "python",
   "nbconvert_exporter": "python",
   "pygments_lexer": "ipython3",
   "version": "3.12.7"
  }
 },
 "nbformat": 4,
 "nbformat_minor": 5
}
